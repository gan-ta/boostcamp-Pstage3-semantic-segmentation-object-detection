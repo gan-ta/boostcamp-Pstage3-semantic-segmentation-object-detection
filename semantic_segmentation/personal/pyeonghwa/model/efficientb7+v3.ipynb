{
 "cells": [
  {
   "cell_type": "code",
   "execution_count": null,
   "id": "3da4724d-4276-4674-bf7f-7259c9888ccf",
   "metadata": {},
   "outputs": [],
   "source": [
    "!pip install efficientnet_pytorch"
   ]
  },
  {
   "cell_type": "code",
   "execution_count": null,
   "id": "8ef3a4df-3d47-41e2-ace6-bb5fc6c2b5c0",
   "metadata": {},
   "outputs": [],
   "source": [
    "!pip install torchsummary"
   ]
  },
  {
   "cell_type": "code",
   "execution_count": 1,
   "id": "e888d43a-9533-4af8-a938-c70ef0f3b5c1",
   "metadata": {},
   "outputs": [
    {
     "name": "stdout",
     "output_type": "stream",
     "text": [
      "pytorch version: 1.4.0\n",
      "GPU 사용 가능 여부: True\n",
      "Tesla P40\n",
      "1\n"
     ]
    }
   ],
   "source": [
    "import os\n",
    "import random\n",
    "import time\n",
    "import json\n",
    "import warnings \n",
    "warnings.filterwarnings('ignore')\n",
    "\n",
    "import torch\n",
    "import torch.nn as nn\n",
    "from torch.utils.data import Dataset, DataLoader\n",
    "from utils import label_accuracy_score\n",
    "import cv2\n",
    "\n",
    "import numpy as np\n",
    "import pandas as pd\n",
    "\n",
    "# 전처리를 위한 라이브러리\n",
    "from pycocotools.coco import COCO\n",
    "import torchvision\n",
    "import torchvision.transforms as transforms\n",
    "\n",
    "import albumentations as A\n",
    "from albumentations.pytorch import ToTensorV2\n",
    "\n",
    "# 시각화를 위한 라이브러리\n",
    "import matplotlib.pyplot as plt\n",
    "import seaborn as sns; sns.set()\n",
    "\n",
    "plt.rcParams['axes.grid'] = False\n",
    "\n",
    "print('pytorch version: {}'.format(torch.__version__))\n",
    "print('GPU 사용 가능 여부: {}'.format(torch.cuda.is_available()))\n",
    "\n",
    "print(torch.cuda.get_device_name(0))\n",
    "print(torch.cuda.device_count())\n",
    "\n",
    "device = \"cuda\" if torch.cuda.is_available() else \"cpu\"   # GPU 사용 가능 여부에 따라 device 정보 저장\n",
    "\n",
    "import torch.optim as optim\n",
    "from torchvision import models\n",
    "from torchvision.models import vgg16"
   ]
  },
  {
   "cell_type": "code",
   "execution_count": 2,
   "id": "ffde972f-8776-49db-8001-c6874a8d1a47",
   "metadata": {},
   "outputs": [],
   "source": [
    "from efficientnet_pytorch import EfficientNet"
   ]
  },
  {
   "cell_type": "code",
   "execution_count": null,
   "id": "c336852b-15c2-4c3e-840f-1efa5f6c2607",
   "metadata": {},
   "outputs": [],
   "source": [
    "model_efb7 = EfficientNet.from_pretrained('efficientnet-b7')"
   ]
  },
  {
   "cell_type": "code",
   "execution_count": null,
   "id": "37961bb2-7378-47ea-a620-71a03b7d4046",
   "metadata": {
    "tags": []
   },
   "outputs": [],
   "source": [
    "model_efb7.extract_features"
   ]
  },
  {
   "cell_type": "code",
   "execution_count": null,
   "id": "055440c5-b87c-4a26-9497-e66a132d55d1",
   "metadata": {
    "tags": []
   },
   "outputs": [],
   "source": [
    "from torchsummary import summary\n",
    "x = (3, 512, 512)\n",
    "summary(model_efb7.to(device), x)"
   ]
  },
  {
   "cell_type": "code",
   "execution_count": null,
   "id": "3108c7fb-3a47-46e1-86c1-2f4a8311b179",
   "metadata": {},
   "outputs": [],
   "source": [
    "_conv_stem = model_efb7._conv_stem\n",
    "_bn0 = model_efb7._bn0\n",
    "_blocks = model_efb7._blocks\n",
    "_conv_head = model_efb7._conv_head\n",
    "_bn1 = model_efb7._bn1\n",
    "_avg_pooling = model_efb7._avg_pooling\n",
    "_dropout = model_efb7._dropout\n",
    "model_efb7._fc = model_efb7._swish\n",
    "_swish = model_efb7._swish"
   ]
  },
  {
   "cell_type": "code",
   "execution_count": null,
   "id": "40d32553-3a41-41b7-a041-27c71f97668a",
   "metadata": {
    "tags": []
   },
   "outputs": [],
   "source": [
    "model_efb7.image_size"
   ]
  },
  {
   "cell_type": "code",
   "execution_count": 3,
   "id": "a31cdcf3-f17f-4723-be69-8beb9edad0f9",
   "metadata": {},
   "outputs": [],
   "source": [
    "import torch.nn as nn\n",
    "import torch.optim as optim\n",
    "from torchvision import models\n",
    "from torch.nn import functional as F\n",
    "from efficientnet_pytorch import EfficientNet\n",
    "\n",
    "class DeepLabV3(nn.Module):\n",
    "    def __init__(self, n_classes, n_blocks, atrous_rates):\n",
    "        super(DeepLabV3,self).__init__()\n",
    "        self.pretrained_model = EfficientNet.from_pretrained('efficientnet-b7')\n",
    "\n",
    "        self.extract_features = self.pretrained_model.extract_features\n",
    "        self.classifier = DeepLabHead(in_ch=2560, out_ch=256, n_classes=12)\n",
    "    \n",
    "    def forward(self, x):\n",
    "\n",
    "        h = self.extract_features(x)\n",
    "        h = self.classifier(h)\n",
    "        output = F.interpolate(h, size=x.shape[2:], mode=\"bilinear\", align_corners=False)\n",
    "        return output\n",
    "\n",
    "\n",
    "    \n",
    "class DeepLabHead(nn.Sequential):\n",
    "    def __init__(self, in_ch, out_ch, n_classes):\n",
    "        super(DeepLabHead, self).__init__()\n",
    "        self.add_module(\"0\", ASPP(in_ch, out_ch))\n",
    "        self.add_module(\"1\", nn.Conv2d(out_ch, out_ch, kernel_size=3, stride=1, padding=1 , bias=False))\n",
    "        self.add_module(\"2\", nn.BatchNorm2d(out_ch))\n",
    "        self.add_module(\"3\", nn.ReLU())\n",
    "        self.add_module(\"4\", nn.Conv2d(out_ch, n_classes, kernel_size=1, stride=1))    \n",
    "        \n",
    "    \n",
    "class ASPPConv(nn.Module):\n",
    "    def __init__(self, inplanes, outplanes, kernel_size, padding, dilation):\n",
    "        super(ASPPConv, self).__init__()\n",
    "        self.atrous_conv = nn.Conv2d(inplanes, outplanes, kernel_size=kernel_size,\n",
    "                                            stride=1, padding=padding, dilation=dilation, bias=False)\n",
    "        self.bn = nn.BatchNorm2d(outplanes)\n",
    "        self.relu = nn.ReLU()\n",
    "\n",
    "    def forward(self, x):\n",
    "        x = self.atrous_conv(x)\n",
    "        x = self.bn(x)\n",
    "        output = self.relu(x)\n",
    "        return output\n",
    "    \n",
    "\n",
    "class ASPPPooling(nn.Module):\n",
    "    def __init__(self, inplanes, outplanes):\n",
    "        super(ASPPPooling, self).__init__()\n",
    "        self.globalavgpool = nn.AdaptiveAvgPool2d((1, 1))\n",
    "        self.conv = nn.Conv2d(inplanes, outplanes, 1, stride=1, bias=False)\n",
    "        self.bn = nn.BatchNorm2d(outplanes)\n",
    "        self.relu = nn.ReLU()\n",
    "\n",
    "    def forward(self, x):\n",
    "        x = self.globalavgpool(x)\n",
    "        x = self.conv(x)\n",
    "        x = self.bn(x)\n",
    "        output = self.relu(x)\n",
    "        return output\n",
    "\n",
    "\n",
    "class ASPP(nn.Module):\n",
    "    def __init__(self, inplanes, outplanes):\n",
    "        super(ASPP, self).__init__()\n",
    "        dilations = [1, 6, 12, 18]\n",
    "        self.aspp1 = ASPPConv(inplanes, outplanes, 1, padding=0, dilation=dilations[0])\n",
    "        self.aspp2 = ASPPConv(inplanes, outplanes, 3, padding=dilations[1], dilation=dilations[1])\n",
    "        self.aspp3 = ASPPConv(inplanes, outplanes, 3, padding=dilations[2], dilation=dilations[2])\n",
    "        self.aspp4 = ASPPConv(inplanes, outplanes, 3, padding=dilations[3], dilation=dilations[3])\n",
    "        self.global_avg_pool = ASPPPooling(inplanes, outplanes)\n",
    "        self.project = nn.Sequential(\n",
    "            nn.Conv2d(outplanes*5, outplanes, 1, bias=False), \n",
    "            nn.BatchNorm2d(outplanes), \n",
    "            nn.ReLU(), \n",
    "            nn.Dropout(0.5)      \n",
    "        )\n",
    "\n",
    "    def forward(self, x):\n",
    "        x1 = self.aspp1(x)\n",
    "        x2 = self.aspp2(x)\n",
    "        x3 = self.aspp3(x)\n",
    "        x4 = self.aspp4(x)\n",
    "        x5 = self.global_avg_pool(x)\n",
    "        x5 = F.interpolate(x5, size=x.size()[2:], mode='bilinear', align_corners=True)\n",
    "        x = torch.cat((x1, x2, x3, x4, x5), dim=1)\n",
    "\n",
    "        output = self.project(x)\n",
    "        return output"
   ]
  },
  {
   "cell_type": "code",
   "execution_count": null,
   "id": "97942bf9-e287-4d7d-a645-7be53d759028",
   "metadata": {},
   "outputs": [],
   "source": [
    "import torch.nn as nn\n",
    "import torch.optim as optim\n",
    "from torchvision import models\n",
    "from torch.nn import functional as F\n",
    "from efficientnet_pytorch import EfficientNet\n",
    "\n",
    "class DeepLabV3(nn.Module):\n",
    "    def __init__(self, n_classes, n_blocks, atrous_rates):\n",
    "        super(DeepLabV3,self).__init__()\n",
    "        self.pretrained_model = EfficientNet.from_pretrained('efficientnet-b7')\n",
    "\n",
    "        self.extract_features = self.pretrained_model.extract_features\n",
    "        self.classifier = DeepLabHead(in_ch=2560, out_ch=256, n_classes=12)\n",
    "    \n",
    "    def forward(self, x):\n",
    "\n",
    "        h = self.extract_features(x)\n",
    "        h = self.classifier(h)\n",
    "        output = F.interpolate(h, size=x.shape[2:], mode=\"bilinear\", align_corners=False)\n",
    "        return output\n",
    "\n",
    "\n",
    "    \n",
    "class DeepLabHead(nn.Sequential):\n",
    "    def __init__(self, in_ch, out_ch, n_classes):\n",
    "        super(DeepLabHead, self).__init__()\n",
    "        self.add_module(\"0\", ASPP(in_ch, out_ch))\n",
    "        self.add_module(\"1\", nn.Conv2d(out_ch, out_ch, kernel_size=3, stride=1, padding=1 , bias=False))\n",
    "        self.add_module(\"2\", nn.BatchNorm2d(out_ch))\n",
    "        self.add_module(\"3\", nn.ReLU())\n",
    "        self.add_module(\"4\", nn.Conv2d(out_ch, n_classes, kernel_size=1, stride=1))    \n",
    "        \n",
    "    \n",
    "class ASPPConv(nn.Module):\n",
    "    def __init__(self, inplanes, outplanes, kernel_size, padding, dilation):\n",
    "        super(ASPPConv, self).__init__()\n",
    "        self.atrous_conv = nn.Conv2d(inplanes, outplanes, kernel_size=kernel_size,\n",
    "                                            stride=1, padding=padding, dilation=dilation, bias=False)\n",
    "        self.bn = nn.BatchNorm2d(outplanes)\n",
    "        self.relu = nn.ReLU()\n",
    "\n",
    "    def forward(self, x):\n",
    "        x = self.atrous_conv(x)\n",
    "        x = self.bn(x)\n",
    "        output = self.relu(x)\n",
    "        return output\n",
    "    \n",
    "\n",
    "class ASPPPooling(nn.Module):\n",
    "    def __init__(self, inplanes, outplanes):\n",
    "        super(ASPPPooling, self).__init__()\n",
    "        self.globalavgpool = nn.AdaptiveAvgPool2d((1, 1))\n",
    "        self.conv = nn.Conv2d(inplanes, outplanes, 1, stride=1, bias=False)\n",
    "        self.bn = nn.BatchNorm2d(outplanes)\n",
    "        self.relu = nn.ReLU()\n",
    "\n",
    "    def forward(self, x):\n",
    "        x = self.globalavgpool(x)\n",
    "        x = self.conv(x)\n",
    "        x = self.bn(x)\n",
    "        output = self.relu(x)\n",
    "        return output\n",
    "\n",
    "\n",
    "class ASPP(nn.Module):\n",
    "    def __init__(self, inplanes, outplanes):\n",
    "        super(ASPP, self).__init__()\n",
    "        dilations = [1, 6, 12, 18]\n",
    "        self.aspp1 = ASPPConv(inplanes, outplanes, 1, padding=0, dilation=dilations[0])\n",
    "        self.aspp2 = ASPPConv(inplanes, outplanes, 3, padding=dilations[1], dilation=dilations[1])\n",
    "        self.aspp3 = ASPPConv(inplanes, outplanes, 3, padding=dilations[2], dilation=dilations[2])\n",
    "        self.aspp4 = ASPPConv(inplanes, outplanes, 3, padding=dilations[3], dilation=dilations[3])\n",
    "        self.global_avg_pool = ASPPPooling(inplanes, outplanes)\n",
    "        self.project = nn.Sequential(\n",
    "            nn.Conv2d(outplanes*5, outplanes, 1, bias=False), \n",
    "            nn.BatchNorm2d(outplanes), \n",
    "            nn.ReLU(), \n",
    "            nn.Dropout(0.5)      \n",
    "        )\n",
    "\n",
    "    def forward(self, x):\n",
    "        x1 = self.aspp1(x)\n",
    "        x2 = self.aspp2(x)\n",
    "        x3 = self.aspp3(x)\n",
    "        x4 = self.aspp4(x)\n",
    "        x5 = self.global_avg_pool(x)\n",
    "        x5 = F.interpolate(x5, size=x.size()[2:], mode='bilinear', align_corners=True)\n",
    "        x = torch.cat((x1, x2, x3, x4, x5), dim=1)\n",
    "\n",
    "        output = self.project(x)\n",
    "        return output"
   ]
  },
  {
   "cell_type": "code",
   "execution_count": 4,
   "id": "6e3da16a-56e5-4ab6-9836-6d4ae929449e",
   "metadata": {},
   "outputs": [
    {
     "name": "stdout",
     "output_type": "stream",
     "text": [
      "Loaded pretrained weights for efficientnet-b7\n",
      "input shape :  torch.Size([2, 3, 512, 512])\n",
      "output shape :  torch.Size([2, 12, 512, 512])\n"
     ]
    }
   ],
   "source": [
    "model = DeepLabV3(n_classes=12, n_blocks=[3, 4, 23, 3], atrous_rates=[6, 12, 18, 24])\n",
    "\n",
    "x = torch.randn([2, 3, 512, 512])\n",
    "print(\"input shape : \", x.shape)\n",
    "out = model(x).to(device)\n",
    "print(\"output shape : \", out.size())\n"
   ]
  },
  {
   "cell_type": "code",
   "execution_count": null,
   "id": "e198a35b-7a48-4f25-be41-f5997fbc6fcb",
   "metadata": {
    "tags": []
   },
   "outputs": [],
   "source": [
    "model.eval()"
   ]
  },
  {
   "cell_type": "code",
   "execution_count": null,
   "id": "e12f4386-2288-465f-8ea9-7f0f40fa341f",
   "metadata": {},
   "outputs": [],
   "source": []
  }
 ],
 "metadata": {
  "kernelspec": {
   "display_name": "Python 3",
   "language": "python",
   "name": "python3"
  },
  "language_info": {
   "codemirror_mode": {
    "name": "ipython",
    "version": 3
   },
   "file_extension": ".py",
   "mimetype": "text/x-python",
   "name": "python",
   "nbconvert_exporter": "python",
   "pygments_lexer": "ipython3",
   "version": "3.7.7"
  }
 },
 "nbformat": 4,
 "nbformat_minor": 5
}
