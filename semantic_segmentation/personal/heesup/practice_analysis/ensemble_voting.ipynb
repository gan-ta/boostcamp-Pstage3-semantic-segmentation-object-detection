{
 "cells": [
  {
   "cell_type": "code",
   "execution_count": 1,
   "metadata": {},
   "outputs": [],
   "source": [
    "import random\n",
    "\n",
    "import numpy as np\n",
    "import pandas as pd\n",
    "\n",
    "data1 = pd.read_csv('/opt/ml/submission/6065.csv')\n",
    "data2 = pd.read_csv('/opt/ml/submission/6030.csv')\n",
    "data3 = pd.read_csv('/opt/ml/submission/5997.csv')\n",
    "data4 = pd.read_csv('/opt/ml/submission/5996.csv')\n",
    "data5 = pd.read_csv('/opt/ml/submission/5975.csv')\n",
    "data6 = pd.read_csv('/opt/ml/submission/sy.csv')"
   ]
  },
  {
   "cell_type": "code",
   "execution_count": 115,
   "metadata": {},
   "outputs": [],
   "source": [
    "data1_str = data1.iloc[0]['PredictionString']"
   ]
  },
  {
   "cell_type": "code",
   "execution_count": 116,
   "metadata": {},
   "outputs": [],
   "source": [
    "data1_str = data1_str.split(' ')"
   ]
  },
  {
   "cell_type": "code",
   "execution_count": 117,
   "metadata": {},
   "outputs": [],
   "source": [
    "data1_str = np.array(data1_str, int)"
   ]
  },
  {
   "cell_type": "code",
   "execution_count": 2,
   "metadata": {},
   "outputs": [],
   "source": [
    "len(data1_str)"
   ]
  },
  {
   "cell_type": "code",
   "execution_count": 119,
   "metadata": {},
   "outputs": [],
   "source": [
    "submission = pd.read_csv('/opt/ml/submission/sample_submission.csv', index_col=None)"
   ]
  },
  {
   "cell_type": "code",
   "execution_count": 3,
   "metadata": {},
   "outputs": [],
   "source": [
    "from tqdm.notebook import tqdm\n",
    "\n",
    "submission = pd.read_csv('/opt/ml/submission/sample_submission.csv', index_col=None)\n",
    "submission\n",
    "\n",
    "for i in tqdm(range(len(data1))):\n",
    "    file_name = data1.iloc[i]['image_id']\n",
    "    \n",
    "    data1_str = data1.iloc[i]['PredictionString']\n",
    "    data2_str = data2.iloc[i]['PredictionString']\n",
    "    data3_str = data3.iloc[i]['PredictionString']\n",
    "    data4_str = data4.iloc[i]['PredictionString']\n",
    "    data5_str = data5.iloc[i]['PredictionString']\n",
    "    data6_str = data6.iloc[i]['PredictionString']\n",
    "    \n",
    "    \n",
    "    data1_str = data1_str.split(' ')\n",
    "    data2_str = data2_str.split(' ')\n",
    "    data3_str = data3_str.split(' ')\n",
    "    data4_str = data4_str.split(' ')\n",
    "    data5_str = data5_str.split(' ')\n",
    "    data6_str = data6_str.split(' ')\n",
    "    \n",
    "    \n",
    "    data1_str = np.array(data1_str, int) # best1\n",
    "    data2_str = np.array(data2_str, int) # best2\n",
    "    data3_str = np.array(data3_str, int) # best3\n",
    "    data4_str = np.array(data4_str, int) # best4\n",
    "    data5_str = np.array(data5_str, int) # best5\n",
    "    data6_str = np.array(data6_str, int) # best5\n",
    "    \n",
    "    res = []\n",
    "    \n",
    "    for j in range(len(data1_str)):\n",
    "        count_list = [data1_str[j], data2_str[j], data3_str[j], data4_str[j], data5_str[j], data6_str[j]]\n",
    "        \n",
    "        check_list = []\n",
    "        for k in range(12):\n",
    "            check_list.append(count_list.count(k))\n",
    "            \n",
    "        np_check_list = np.array(check_list)\n",
    "        max_index = np_check_list.argmax()\n",
    "        max_index_num = check_list[max_index]\n",
    "        \n",
    "        if check_list.count(max_index_num) > 1:\n",
    "            res.append(data1_str[j])\n",
    "        else:\n",
    "            res.append(max_index)\n",
    "            \n",
    "    res = np.array(res)\n",
    "    \n",
    "    submission = submission.append({\"image_id\" : file_name, \"PredictionString\" : ' '.join(str(e) for e in res)}, ignore_index=True)"
   ]
  },
  {
   "cell_type": "code",
   "execution_count": 123,
   "metadata": {},
   "outputs": [],
   "source": [
    "# submission.csv로 저장\n",
    "submission.to_csv(\"/opt/ml/submission/\" + \"ensemble_hs2\" + \".csv\", index=False)"
   ]
  },
  {
   "cell_type": "code",
   "execution_count": null,
   "metadata": {},
   "outputs": [],
   "source": [
    "# 쓰지는 않았으나 voting 함수화 작업 코드\n",
    "pred1 = np.random.randint(0, 11, size=(10, 64, 64, 1))\n",
    "pred2 = np.random.randint(0, 11, size=(10, 64, 64, 1))\n",
    "pred3 = np.random.randint(0, 11, size=(10, 64, 64, 1))\n",
    "pred4 = np.random.randint(0, 11, size=(10, 64, 64, 1))\n",
    "pred5 = np.random.randint(0, 11, size=(10, 64, 64, 1))\n",
    "\n",
    "predictions = np.concatenate([pred1, pred2, pred3, pred4, pred5], axis=3)\n",
    "\n",
    "print(predictions.shape)\n",
    "\n",
    "def vote_seg_map(prediction: np.ndarray, mode: str='hard'):\n",
    "    return np.asarray([np.bincount(prediction[r, c]).argmax() for r in range(prediction.shape[0]) for c in range(prediction.shape[1])]).reshape(prediction.shape[:2])\n",
    "\n",
    "# DEBUG:\n",
    "# for pred in predictions[:1]:\n",
    "#     plt.imshow(vote_seg_map(pred))\n",
    "#     plt.colorbar()\n",
    "#     plt.show()\n",
    "\n",
    "hard_vote_result = list(map(vote_seg_map, predictions))\n",
    "\n",
    "print(len(hard_vote_result))\n",
    "print(hard_vote_result[0].dtype, hard_vote_result[0].shape)"
   ]
  },
  {
   "cell_type": "code",
   "execution_count": null,
   "metadata": {},
   "outputs": [],
   "source": []
  }
 ],
 "metadata": {
  "kernelspec": {
   "display_name": "Python 3",
   "language": "python",
   "name": "python3"
  },
  "language_info": {
   "codemirror_mode": {
    "name": "ipython",
    "version": 3
   },
   "file_extension": ".py",
   "mimetype": "text/x-python",
   "name": "python",
   "nbconvert_exporter": "python",
   "pygments_lexer": "ipython3",
   "version": "3.8.3"
  }
 },
 "nbformat": 4,
 "nbformat_minor": 5
}
