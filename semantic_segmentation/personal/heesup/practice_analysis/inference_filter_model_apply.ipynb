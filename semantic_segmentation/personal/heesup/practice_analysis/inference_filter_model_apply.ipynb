{
 "cells": [
  {
   "cell_type": "code",
   "execution_count": 1,
   "metadata": {},
   "outputs": [],
   "source": [
    "import sys\n",
    "import argparse\n",
    "import torch\n",
    "import logging\n",
    "from tqdm import tqdm\n",
    "import albumentations as A\n",
    "from albumentations.pytorch import ToTensorV2\n",
    "\n",
    "dataset_path = '/opt/ml/input/data'\n",
    "train_path = dataset_path + '/train.json'\n",
    "val_path = dataset_path + '/val.json'\n",
    "test_path = dataset_path + '/test.json'\n",
    "\n",
    "def __get_logger():\n",
    "    \"\"\"로거 인스턴스 반환\n",
    "    \"\"\"\n",
    "\n",
    "    __logger = logging.getLogger('logger')\n",
    "\n",
    "    # # 로그 포멧 정의\n",
    "    formatter = logging.Formatter(fmt=\"%(asctime)s - %(name)s - %(levelname)s - %(message)s\")\n",
    "    # 스트림 핸들러 정의\n",
    "    stream_handler = logging.StreamHandler()\n",
    "    # 각 핸들러에 포멧 지정\n",
    "    stream_handler.setFormatter(formatter)\n",
    "    # 로거 인스턴스에 핸들러 삽입\n",
    "    __logger.addHandler(stream_handler)\n",
    "    # 로그 레벨 정의\n",
    "    __logger.setLevel(logging.DEBUG)\n",
    "\n",
    "    return __logger\n",
    "\n",
    "logger = __get_logger()\n",
    "\n",
    "\n",
    "def collate_fn(batch):\n",
    "    return tuple(zip(*batch))"
   ]
  },
  {
   "cell_type": "code",
   "execution_count": 1,
   "metadata": {},
   "outputs": [],
   "source": [
    "if torch.cuda.is_available():\n",
    "    logger.info(\"*************************************\")\n",
    "    device = torch.device(\"cuda\")\n",
    "    logger.info(f'There are {torch.cuda.device_count()} GPU(s) available.')\n",
    "    logger.info(f'We will use the GPU:{torch.cuda.get_device_name(0)}')\n",
    "    logger.info(\"*************************************\\n\")\n",
    "else:\n",
    "    logger.info(\"*************************************\")\n",
    "    logger.info('No GPU available, using the CPU instead.')\n",
    "    device = torch.device(\"cpu\")\n",
    "    logger.info(\"*************************************\\n\")"
   ]
  },
  {
   "cell_type": "code",
   "execution_count": 4,
   "metadata": {},
   "outputs": [],
   "source": [
    "import pandas as pd\n",
    "\n",
    "data1 = pd.read_csv(\"/opt/ml/submission/ensemble_ch2.csv\") # best model\n",
    "data2 = pd.read_csv(\"/opt/ml/submission/hs_filter.csv\")"
   ]
  },
  {
   "cell_type": "code",
   "execution_count": 2,
   "metadata": {},
   "outputs": [],
   "source": [
    "len(data1.iloc[0]['PredictionString'])"
   ]
  },
  {
   "cell_type": "code",
   "execution_count": 3,
   "metadata": {},
   "outputs": [],
   "source": [
    "len(data2)"
   ]
  },
  {
   "cell_type": "code",
   "execution_count": 4,
   "metadata": {},
   "outputs": [],
   "source": [
    "len(data2.iloc[0]['PredictionString'])"
   ]
  },
  {
   "cell_type": "code",
   "execution_count": 15,
   "metadata": {},
   "outputs": [],
   "source": [
    "submission = pd.read_csv('/opt/ml/submission/sample_submission.csv', index_col=None)"
   ]
  },
  {
   "cell_type": "markdown",
   "metadata": {},
   "source": [
    "## 기존 모델 산출물에 이진분류 모델 filtering적용"
   ]
  },
  {
   "cell_type": "code",
   "execution_count": 18,
   "metadata": {},
   "outputs": [],
   "source": [
    "from tqdm.notebook import tqdm\n",
    "\n",
    "for i in tqdm(range(len(data1))):\n",
    "    file_name = data1.iloc[i]['image_id']\n",
    "    data1_str = data1.iloc[i]['PredictionString']\n",
    "    data2_str = data2.iloc[i]['PredictionString']\n",
    "    data1_str = data1_str.split(' ')\n",
    "    data2_str = data2_str.split(' ')\n",
    "    data1_str = np.array(data1_str, int) # 기준 모델\n",
    "    data2_str = np.array(data2_str, int) # 필터\n",
    "\n",
    "    \n",
    "    data3_str = np.where(data2_str == 0, 0, data1_str)\n",
    "    data3_str = data3_str.tolist()\n",
    "    \n",
    "    temp = (data1_str == data3_str)\n",
    "    \n",
    "    submission = submission.append({\"image_id\" : file_name, \"PredictionString\" : ' '.join(str(e) for e in data3_str)}, ignore_index=True)\n"
   ]
  },
  {
   "cell_type": "code",
   "execution_count": 5,
   "metadata": {},
   "outputs": [],
   "source": [
    "len(submission.iloc[0]['PredictionString'])"
   ]
  },
  {
   "cell_type": "code",
   "execution_count": 107,
   "metadata": {},
   "outputs": [],
   "source": [
    "# submission.csv로 저장\n",
    "submission.to_csv(\"/opt/ml/submission/\" + \"ensemble2_filter2_hs2\" + \".csv\", index=False)"
   ]
  },
  {
   "cell_type": "code",
   "execution_count": 67,
   "metadata": {},
   "outputs": [],
   "source": [
    "tt = submission.iloc[0]['PredictionString'] == data1.iloc[0]['PredictionString']"
   ]
  },
  {
   "cell_type": "code",
   "execution_count": 6,
   "metadata": {},
   "outputs": [],
   "source": [
    "tt # 최종 적용 확인작업"
   ]
  },
  {
   "cell_type": "code",
   "execution_count": null,
   "metadata": {},
   "outputs": [],
   "source": []
  }
 ],
 "metadata": {
  "kernelspec": {
   "display_name": "Python 3",
   "language": "python",
   "name": "python3"
  },
  "language_info": {
   "codemirror_mode": {
    "name": "ipython",
    "version": 3
   },
   "file_extension": ".py",
   "mimetype": "text/x-python",
   "name": "python",
   "nbconvert_exporter": "python",
   "pygments_lexer": "ipython3",
   "version": "3.8.3"
  }
 },
 "nbformat": 4,
 "nbformat_minor": 5
}
