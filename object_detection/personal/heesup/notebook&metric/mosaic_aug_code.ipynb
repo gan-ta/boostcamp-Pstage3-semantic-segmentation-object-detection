{
 "cells": [
  {
   "cell_type": "markdown",
   "metadata": {},
   "source": [
    "# mosaic Augmentation데이터 셋을 만들기 위한 코드"
   ]
  },
  {
   "cell_type": "code",
   "execution_count": null,
   "metadata": {},
   "outputs": [],
   "source": [
    "from pycocotools.coco import COCO\n",
    "from pycocotools.cocoeval import COCOeval\n",
    "import numpy as np\n",
    "import cv2 \n",
    "import os\n",
    "import random\n",
    "\n",
    "import albumentations as A\n",
    "from albumentations.pytorch.transforms import ToTensorV2\n",
    "\n",
    "import torch\n",
    "import torchvision\n",
    "\n",
    "from torchvision.models.detection.faster_rcnn import FastRCNNPredictor\n",
    "\n",
    "from torch.utils.data import DataLoader, Dataset\n",
    "import pandas as pd\n",
    "from tqdm import tqdm\n",
    "\n",
    "import matplotlib.pyplot as plt\n",
    "import matplotlib.patches as patches\n",
    "\n",
    "import PIL"
   ]
  },
  {
   "cell_type": "markdown",
   "metadata": {},
   "source": [
    "# 기본 함수"
   ]
  },
  {
   "cell_type": "code",
   "execution_count": 2,
   "metadata": {},
   "outputs": [],
   "source": [
    "def get_img_label(index,img_size,coco,data_dir):\n",
    "    \"\"\" 각각의 이미지 마다 이미지와 meta정보를 가져옴\n",
    "    \n",
    "    Args:\n",
    "        index(int) : 정보를 가져올 이미지의 id\n",
    "        img_size(int) : 이미지의 사이즈\n",
    "        coco(coco object) : 데이터를 가져올 json파일의 정보를 담고 있는 coco object\n",
    "        data_dir(str) : 이미지 데이터가 있는 디렉토리\n",
    "        \n",
    "    Returns:\n",
    "        np.array : 이미지 정보 리스트\n",
    "        list : 이미지 class 정보\n",
    "        list : 이미지 bbox 정보\n",
    "        list : 이미지 segmentation 정보\n",
    "        list : 이미지 area정보\n",
    "    \"\"\"\n",
    "    image_id = coco.getImgIds(imgIds=index)\n",
    "\n",
    "    image_info = coco.loadImgs(image_id)[0]\n",
    "\n",
    "    image = cv2.imread(os.path.join(data_dir, image_info['file_name']))\n",
    "    image = cv2.cvtColor(image, cv2.COLOR_BGR2RGB).astype(np.float32)\n",
    "    image /= 255.0\n",
    "\n",
    "    ann_ids = coco.getAnnIds(imgIds=image_info['id'])\n",
    "    anns = coco.loadAnns(ann_ids)\n",
    "\n",
    "    boxes = np.array([x['bbox'] for x in anns])\n",
    "\n",
    "    # boxex (x_min, y_min, x_max, y_max)\n",
    "    boxes[:, 2] = (boxes[:, 0] + boxes[:, 2]) * img_size/ image.shape[1]\n",
    "    boxes[:, 3] = (boxes[:, 1] + boxes[:, 3]) * img_size / image.shape[0]\n",
    "    boxes[:, 0] = boxes[:, 0] * img_size / image.shape[1]\n",
    "    boxes[:, 1] = boxes[:, 1] * img_size / image.shape[0]\n",
    "\n",
    "    labels = [x['category_id'] for x in anns]\n",
    "    areas = [x['area'] for x in anns]\n",
    "\n",
    "    insert_seg = []\n",
    "    for x in anns:\n",
    "        insert_seg.append(x['segmentation'])\n",
    "\n",
    "    segments = insert_seg\n",
    "\n",
    "    image = cv2.resize(image, (img_size, img_size))\n",
    "\n",
    "    return image, labels, boxes, segments, areas"
   ]
  },
  {
   "cell_type": "code",
   "execution_count": 3,
   "metadata": {},
   "outputs": [],
   "source": [
    "def load_mosaic(index, img_size, coco, data_dir, data_count, upsampling_mode, sampling_list):\n",
    "    \"\"\"모자이크 이미지와 메타 정보 생성\n",
    "    \n",
    "    Args :\n",
    "        index(int) : 기준점이 되는 이미지의 index정보\n",
    "        img_size(int) : 이미지 사이즈 정보\n",
    "        coco(coco object) : 데이터를 가져올 json파일의 정보를 담고 있는 coco object\n",
    "        data_dir(str) : 이미지 데이터가 있는 디렉토리\n",
    "        data_count(int) : json파일에 있는 전체 이미지의 개수\n",
    "        upsampling_mode(boolean) : class0의 upsampling을 고려하여 데이터를 만들지 고려하지 않을지 결정하게 해 주는 변수\n",
    "        sampling_list(list) : upsampling을 할 시 데이터를 추가해 줄 것만 id가 들어있는 리스트\n",
    "        \n",
    "    Returns:\n",
    "        np.array. : Augmentation이 적용 된 image데이터\n",
    "        np.array : 클래스 데이터\n",
    "        np.array : bbox정보\n",
    "        list : segmentation정보\n",
    "        np.array : area정보\n",
    "    \"\"\"\n",
    "    # loads images in a 4-mosaic\n",
    "    boxes4 = []\n",
    "    labels4 = []\n",
    "    segs4 = []\n",
    "    areas4 = []\n",
    "    s = img_size\n",
    "    h = s\n",
    "    w = s\n",
    "    \n",
    "    xc,yc  = 512,512\n",
    "    if not upsampling_mode:\n",
    "        indices = [index, index + 1, index +2, index + 3]\n",
    "    else:\n",
    "        pick_ids = [sampling_list[random.randint(0,len(sampling_list) -1)] for _ in range(3)]\n",
    "        indices = [index] + pick_ids\n",
    "    \n",
    "    for i, index in enumerate(indices):   \n",
    "        # Load image\n",
    "        img, original_label, original_boxes, original_segs, original_areas = \\\n",
    "        get_img_label(index, img_size, coco, data_dir ) # image, label, boxes, segments(이미지 인덱스에 있는거 뽑아오기)\n",
    "            \n",
    "        # place img in img4\n",
    "        if i == 0:  # top left\n",
    "            img4 = np.full((s * 2, s * 2, img.shape[2]), 114/ 255.0, dtype=np.float32)  # base image with 4 tiles\n",
    "            x1a, y1a, x2a, y2a = max(xc - w, 0), max(yc - h, 0), xc, yc  # xmin, ymin, xmax, ymax (large image)\n",
    "            x1b, y1b, x2b, y2b = w - (x2a - x1a), h - (y2a - y1a), w, h  # xmin, ymin, xmax, ymax (small image)\n",
    "        elif i == 1:  # top right\n",
    "            x1a, y1a, x2a, y2a = xc, max(yc - h, 0), min(xc + w, s * 2), yc\n",
    "            x1b, y1b, x2b, y2b = 0, h - (y2a - y1a), min(w, x2a - x1a), h\n",
    "        elif i == 2:  # bottom left\n",
    "            x1a, y1a, x2a, y2a = max(xc - w, 0), yc, xc, min(s * 2, yc + h)\n",
    "            x1b, y1b, x2b, y2b = w - (x2a - x1a), 0, w, min(y2a - y1a, h)\n",
    "        elif i == 3:  # bottom right\n",
    "            x1a, y1a, x2a, y2a = xc, yc, min(xc + w, s * 2), min(s * 2, yc + h)\n",
    "            x1b, y1b, x2b, y2b = 0, 0, min(w, x2a - x1a), min(y2a - y1a, h)\n",
    "\n",
    "        img4[y1a:y2a, x1a:x2a] = img[y1b:y2b, x1b:x2b]  # img4[ymin:ymax, xmin:xmax]\n",
    "        padw = x1a - x1b\n",
    "        padh = y1a - y1b\n",
    "        \n",
    "        labels = original_label.copy()\n",
    "        boxes = original_boxes.copy()\n",
    "        areas = original_areas.copy()\n",
    "        \n",
    "        for original_seg1 in original_segs: # 어노테이션별 접근\n",
    "            original_seg1 = np.array(original_seg1)\n",
    "            for original_seg2 in original_seg1: #segmentation별 접근\n",
    "                original_seg2 = np.array(original_seg2)\n",
    "                assert len(original_seg2[0::2]) == len(original_seg2[1::2])\n",
    "                \n",
    "        segs = original_segs.copy()\n",
    "            \n",
    "        if len(labels) > 0:\n",
    "            boxes[:, 0] = (original_boxes[:, 0]) + padw\n",
    "            boxes[:, 1] = (original_boxes[:, 1]) + padh\n",
    "            boxes[:, 2] = (original_boxes[:, 2]) + padw\n",
    "            boxes[:, 3] = (original_boxes[:, 3]) + padh\n",
    "            \n",
    "            for i in range(len(original_segs)): # 어노테이션별 접근\n",
    "                original_segs[i] = np.array(original_segs[i])\n",
    "                for j in range(len(original_segs[i])): #box하나당 segmentation별 접근\n",
    "                    original_segs[i][j] = np.array(original_segs[i][j])\n",
    "                    \n",
    "                    segs[i][j][0::2] = (original_segs[i][j][0::2]) + padw\n",
    "                    segs[i][j][1::2] = (original_segs[i][j][1::2]) + padh\n",
    "            \n",
    "            \n",
    "        boxes4.append(boxes)\n",
    "        labels4.append(labels)\n",
    "        segs4.append(segs)\n",
    "        areas4.append(areas)\n",
    "    \n",
    "    # segs4 concatenate\n",
    "    segs_concatenate = []\n",
    "    for seg4 in segs4:\n",
    "        seg4 = list(seg4)\n",
    "        for seg4_annotation in seg4:\n",
    "            seg4_annotation = list(seg4_annotation)\n",
    "            segs_concatenate.append(seg4_annotation)\n",
    "    \n",
    "    labels4 = np.concatenate(labels4, 0)\n",
    "    boxes4 = np.concatenate(boxes4, 0)\n",
    "    segs4 = segs_concatenate\n",
    "    areas4 = np.concatenate(areas4, 0)\n",
    "    \n",
    "#     np.clip(boxes4, 0, 2 * s, out=boxes4)\n",
    "    \n",
    "#     indicies  = []\n",
    "    \n",
    "#     for i, box in enumerate(boxes4):\n",
    "#         if box[0] >= box[2] or box[1] >= box[3]:\n",
    "#             indicies.append(i)\n",
    "    \n",
    "#     boxes4 = np.delete(boxes4, indicies, axis = 0)\n",
    "#     labels4 = np.delete(labels4, indicies, axis = 0)\n",
    "    \n",
    "    return img4, labels4, boxes4, segs4, areas4"
   ]
  },
  {
   "cell_type": "code",
   "execution_count": 4,
   "metadata": {},
   "outputs": [],
   "source": [
    "def get_mosaic_image(coco,annotation,data_dir,img_size,index : int, data_count, upsampling_mode, sampling_list):\n",
    "    \"\"\"image id에 해당하는 변형된 데이터 가져오기\n",
    "    \"\"\"\n",
    "    image_id = coco.getImgIds(imgIds=index)\n",
    "    \n",
    "    image_info = coco.loadImgs(image_id)[0]\n",
    "    \n",
    "    image, labels, boxes, segs, areas = load_mosaic(index, img_size,coco, data_dir, data_count, upsampling_mode, sampling_list)\n",
    "    \n",
    "#     labels = torch.as_tensor(labels, dtype = torch.int64)\n",
    "    \n",
    "    image = torch.tensor(image)\n",
    "#     boxes = torch.tensor(boxes, dtype=torch.float32)\n",
    "    \n",
    "    return image, labels, boxes, segs, areas\n",
    "    "
   ]
  },
  {
   "cell_type": "code",
   "execution_count": 5,
   "metadata": {},
   "outputs": [
    {
     "name": "stdout",
     "output_type": "stream",
     "text": [
      "loading annotations into memory...\n",
      "Done (t=3.33s)\n",
      "creating index...\n",
      "index created!\n",
      "2617\n"
     ]
    }
   ],
   "source": [
    "coco = COCO('/opt/ml/input/data/train.json')\n",
    "data_count = coco.getImgIds()\n",
    "print(len(data_count))"
   ]
  },
  {
   "cell_type": "markdown",
   "metadata": {},
   "source": [
    "# COCO데이터셋 생성"
   ]
  },
  {
   "cell_type": "code",
   "execution_count": 1,
   "metadata": {},
   "outputs": [],
   "source": [
    "# 기존의 데이터를 불러옴\n",
    "annotation = '/opt/ml/input/data/train.json'\n",
    "data_dir = '/opt/ml/input/data'\n",
    "img_size = 512\n",
    "\n",
    "mosaic_images = []\n",
    "mosaic_labels = []\n",
    "mosaic_boxes = []\n",
    "mosaic_segments = []\n",
    "mosaic_areas = []\n",
    "\n",
    "coco = COCO(annotation)\n",
    "\n",
    "for idx in tqdm(range(0, 2616, 4)):\n",
    "    image , labels, boxes, segments, areas = get_mosaic_image(coco,\n",
    "                                                              annotation,\n",
    "                                                              data_dir, \n",
    "                                                              img_size,idx, \n",
    "                                                              data_count, \n",
    "                                                              False,\n",
    "                                                              None\n",
    "                                                             )\n",
    "    mosaic_images.append(image)\n",
    "    mosaic_labels.append(labels)\n",
    "    mosaic_boxes.append(boxes)\n",
    "    mosaic_segments.append(segments)\n",
    "    mosaic_areas.append(areas)\n",
    "\n",
    "zero_class_image_id = []\n",
    "# 0번 클래스를 가지는 이미지 아이디 가져오기\n",
    "for idx in range(0, 2617):\n",
    "    ann_ids = coco.getAnnIds(imgIds =idx)\n",
    "    anns = coco.loadAnns(ann_ids)\n",
    "    \n",
    "    flag = False\n",
    "    for ann in anns:\n",
    "        category_id = ann['category_id']\n",
    "        if category_id == 0:\n",
    "            flag = True\n",
    "            break\n",
    "    if flag:\n",
    "        zero_class_image_id.append(idx)\n",
    "    \n",
    "for i in range(2):\n",
    "    for idx in tqdm(zero_class_image_id):\n",
    "        image , labels, boxes, segments, areas = get_mosaic_image(coco,\n",
    "                                                              annotation,\n",
    "                                                              data_dir, \n",
    "                                                              img_size,idx, \n",
    "                                                              data_count, \n",
    "                                                              True,\n",
    "                                                              zero_class_image_id\n",
    "                                                             )\n",
    "        mosaic_images.append(image)\n",
    "        mosaic_labels.append(labels)\n",
    "        mosaic_boxes.append(boxes)\n",
    "        mosaic_segments.append(segments)\n",
    "        mosaic_areas.append(areas)\n",
    "    "
   ]
  },
  {
   "cell_type": "code",
   "execution_count": 7,
   "metadata": {},
   "outputs": [],
   "source": [
    "for i in range(len(mosaic_labels)):\n",
    "    mosaic_labels[i] = mosaic_labels[i].tolist()"
   ]
  },
  {
   "cell_type": "code",
   "execution_count": 2,
   "metadata": {},
   "outputs": [],
   "source": [
    "type(mosaic_labels[1])"
   ]
  },
  {
   "cell_type": "code",
   "execution_count": 3,
   "metadata": {},
   "outputs": [],
   "source": [
    "print(type(mosaic_labels[0]))"
   ]
  },
  {
   "cell_type": "code",
   "execution_count": 10,
   "metadata": {},
   "outputs": [],
   "source": [
    "for i in range(len(mosaic_boxes)):\n",
    "    mosaic_boxes[i] = mosaic_boxes[i].tolist()"
   ]
  },
  {
   "cell_type": "code",
   "execution_count": 11,
   "metadata": {},
   "outputs": [],
   "source": [
    "for i in range(len(mosaic_boxes)):\n",
    "    mosaic_areas[i] = mosaic_areas[i].tolist()"
   ]
  },
  {
   "cell_type": "code",
   "execution_count": 12,
   "metadata": {},
   "outputs": [],
   "source": [
    "for i in range(len(mosaic_segments)):\n",
    "    for j in range(len(mosaic_segments[i])):\n",
    "        for k in range(len(mosaic_segments[i][j])):\n",
    "            for l in range(len(mosaic_segments[i][j][k])):\n",
    "                mosaic_segments[i][j][k][l] = int(mosaic_segments[i][j][k][l])"
   ]
  },
  {
   "cell_type": "code",
   "execution_count": 4,
   "metadata": {},
   "outputs": [],
   "source": [
    "from torchvision.utils import save_image\n",
    "import torch\n",
    "import torchvision\n",
    "\n",
    "# 이미지 저장\n",
    "for i in tqdm(range(len(mosaic_images))):\n",
    "    storage_image = mosaic_images[i]\n",
    "    storage_image = mosaic_images[i].permute([2,0,1])\n",
    "    image_name = '{0:04d}'.format(i)\n",
    "    save_image(storage_image, '/opt/ml/input/data/mosaic_upsample_class1/' + image_name + '.jpg')"
   ]
  },
  {
   "cell_type": "code",
   "execution_count": 15,
   "metadata": {},
   "outputs": [],
   "source": [
    "# coco dataformat으로 변경\n",
    "import json\n",
    "\n",
    "with open(\"/opt/ml/input/data/train.json\") as json_file:\n",
    "    json_data = json.load(json_file)\n"
   ]
  },
  {
   "cell_type": "code",
   "execution_count": 5,
   "metadata": {},
   "outputs": [],
   "source": [
    "json_data['info'] # 그대로"
   ]
  },
  {
   "cell_type": "code",
   "execution_count": 6,
   "metadata": {},
   "outputs": [],
   "source": [
    "json_data['licenses'] # 그대로"
   ]
  },
  {
   "cell_type": "code",
   "execution_count": 7,
   "metadata": {},
   "outputs": [],
   "source": [
    "json_data['categories'] # 그대로"
   ]
  },
  {
   "cell_type": "code",
   "execution_count": 8,
   "metadata": {},
   "outputs": [],
   "source": [
    "len(json_data['images'])"
   ]
  },
  {
   "cell_type": "code",
   "execution_count": 9,
   "metadata": {},
   "outputs": [],
   "source": [
    "json_data['images'][2616]"
   ]
  },
  {
   "cell_type": "code",
   "execution_count": 10,
   "metadata": {},
   "outputs": [],
   "source": [
    "# 이미지 정보 넣기\n",
    "for i in tqdm(range(len(mosaic_images))):\n",
    "    insert_dict = {}\n",
    "    insert_dict['license'] = 0\n",
    "    insert_dict['url'] = None\n",
    "    insert_dict['file_name'] = 'mosaic_upsample_class1/' +  '{0:04d}'.format(i) + \".jpg\"\n",
    "    insert_dict[\"height\"] = 1024\n",
    "    insert_dict[\"width\"] = 1024\n",
    "    insert_dict[\"data_captured\"] = None\n",
    "    insert_dict[\"id\"] = 2617 + i\n",
    "    \n",
    "    json_data[\"images\"].append(insert_dict)"
   ]
  },
  {
   "cell_type": "code",
   "execution_count": 11,
   "metadata": {},
   "outputs": [],
   "source": [
    "len(json_data['annotations'])"
   ]
  },
  {
   "cell_type": "code",
   "execution_count": 23,
   "metadata": {},
   "outputs": [],
   "source": [
    "# json_data['annotations'][26399]"
   ]
  },
  {
   "cell_type": "code",
   "execution_count": 12,
   "metadata": {},
   "outputs": [],
   "source": [
    "ann_id = 0\n",
    "\n",
    "for i in tqdm(range(len(mosaic_images))):\n",
    "    for j in range(len(mosaic_labels[i])):\n",
    "        insert_dict = {}\n",
    "        insert_dict[\"id\"] = 21116 + ann_id\n",
    "        insert_dict[\"image_id\"] = 2617 + i\n",
    "        insert_dict[\"category_id\"] = mosaic_labels[i][j]\n",
    "        insert_dict[\"segmentation\"] = mosaic_segments[i][j]\n",
    "        insert_dict[\"area\"] = mosaic_areas[i][j]\n",
    "        box_format = [mosaic_boxes[i][j][0], mosaic_boxes[i][j][1], mosaic_boxes[i][j][2] - mosaic_boxes[i][j][0], mosaic_boxes[i][j][3] - mosaic_boxes[i][j][1]]\n",
    "        \n",
    "        insert_dict[\"bbox\"] = box_format\n",
    "        insert_dict[\"iscrowd\"] = 0\n",
    "        ann_id += 1\n",
    "        json_data['annotations'].append(insert_dict)"
   ]
  },
  {
   "cell_type": "code",
   "execution_count": 25,
   "metadata": {},
   "outputs": [],
   "source": [
    "obj1 = json.dumps(json_data)\n",
    "# print(type(obj1))\n",
    "# obj1"
   ]
  },
  {
   "cell_type": "code",
   "execution_count": 26,
   "metadata": {},
   "outputs": [],
   "source": [
    "with open('/opt/ml/input/data/train_mosaic_upsampling.json', 'w') as f:\n",
    "    json.dump(json_data,f)"
   ]
  },
  {
   "cell_type": "markdown",
   "metadata": {},
   "source": [
    "## Augmentation 결과 시각화"
   ]
  },
  {
   "cell_type": "code",
   "execution_count": 13,
   "metadata": {},
   "outputs": [],
   "source": [
    "for i in range(len(mosaic_images)):\n",
    "    image = mosaic_images[i]\n",
    "    labels = mosaic_labels[i]\n",
    "    boxes = mosaic_boxes[i]\n",
    "    segments = mosaic_segments[i]\n",
    "    \n",
    "    plt.figure(figsize=(12,17))\n",
    "    plt.axis('off')\n",
    "\n",
    "    plt.imshow(image)\n",
    "\n",
    "    edge_colors = ['blue', 'brown', 'orange', 'pink', 'green',\n",
    "                  'gray', 'red', 'olive', 'purple', 'cyan',\n",
    "                   'black', 'seagreen'\n",
    "                  ]\n",
    "\n",
    "    ax = plt.gca()\n",
    "\n",
    "    for i in range(len(labels)):\n",
    "        class_label = labels[i]\n",
    "        boxes_info = boxes[i]\n",
    "        seg_info = segments[i]\n",
    "\n",
    "        for seg_info_location in seg_info:\n",
    "            for i in range(0,len(seg_info_location),2):\n",
    "                x = seg_info_location[i]\n",
    "                y = seg_info_location[i+1]\n",
    "\n",
    "                rect = patches.Rectangle(\n",
    "                    (x, y), 1, 1,\n",
    "                    edgecolor='black',\n",
    "                    facecolor='black',\n",
    "                    linewidth=0.5,\n",
    "                    fill=True\n",
    "                )\n",
    "\n",
    "                ax.add_patch(rect)\n",
    "\n",
    "\n",
    "        rect = patches.Rectangle((boxes_info[0],boxes_info[1]),\n",
    "                             boxes_info[2] - boxes_info[0],\n",
    "                             boxes_info[3] - boxes_info[1],\n",
    "                             linewidth=2,\n",
    "                             edgecolor=edge_colors[class_label],\n",
    "                             fill = False)\n",
    "\n",
    "        ax.add_patch(rect)\n",
    "\n",
    "    plt.show()"
   ]
  },
  {
   "cell_type": "code",
   "execution_count": null,
   "metadata": {},
   "outputs": [],
   "source": []
  }
 ],
 "metadata": {
  "kernelspec": {
   "display_name": "Python 3",
   "language": "python",
   "name": "python3"
  },
  "language_info": {
   "codemirror_mode": {
    "name": "ipython",
    "version": 3
   },
   "file_extension": ".py",
   "mimetype": "text/x-python",
   "name": "python",
   "nbconvert_exporter": "python",
   "pygments_lexer": "ipython3",
   "version": "3.8.3"
  }
 },
 "nbformat": 4,
 "nbformat_minor": 5
}
