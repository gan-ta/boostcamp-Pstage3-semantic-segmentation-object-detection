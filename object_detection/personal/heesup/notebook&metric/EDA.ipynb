{
 "cells": [
  {
   "cell_type": "markdown",
   "metadata": {},
   "source": [
    "# Data EDA(Object Detection관점)"
   ]
  },
  {
   "cell_type": "code",
   "execution_count": null,
   "metadata": {},
   "outputs": [],
   "source": [
    "from pycocotools.coco import COCO\n",
    "\n",
    "import numpy as np\n",
    "from pandas import DataFrame as df\n",
    "\n",
    "import matplotlib.pyplot as plt\n",
    "import seaborn as sns\n",
    "sns.set_theme(style=\"darkgrid\")"
   ]
  },
  {
   "cell_type": "code",
   "execution_count": 1,
   "metadata": {},
   "outputs": [],
   "source": [
    "coco = COCO('/opt/ml/input/data/train.json')"
   ]
  },
  {
   "cell_type": "markdown",
   "metadata": {},
   "source": [
    "# bbox EDA"
   ]
  },
  {
   "cell_type": "code",
   "execution_count": 3,
   "metadata": {},
   "outputs": [],
   "source": [
    "image_ids = coco.getImgIds()"
   ]
  },
  {
   "cell_type": "code",
   "execution_count": 2,
   "metadata": {},
   "outputs": [],
   "source": [
    "len(image_ids) # 총 이미지 사진의 개수"
   ]
  },
  {
   "cell_type": "code",
   "execution_count": 5,
   "metadata": {},
   "outputs": [],
   "source": [
    "image_id = image_ids[0]"
   ]
  },
  {
   "cell_type": "code",
   "execution_count": 3,
   "metadata": {
    "tags": []
   },
   "outputs": [],
   "source": [
    "# 이미지 한장의 정보 불러오기\n",
    "image_infos = coco.loadImgs(image_id)[0]\n",
    "print(image_infos)"
   ]
  },
  {
   "cell_type": "code",
   "execution_count": 4,
   "metadata": {},
   "outputs": [],
   "source": [
    "coco.loadImgs(image_id)"
   ]
  },
  {
   "cell_type": "code",
   "execution_count": 5,
   "metadata": {},
   "outputs": [],
   "source": [
    "# 0번 id에 대한 이미지 어노테이션 가져오기\n",
    "ann_ids = coco.getAnnIds(imgIds =0)\n",
    "anns = coco.loadAnns(ann_ids)\n",
    "len(anns)"
   ]
  },
  {
   "cell_type": "code",
   "execution_count": 6,
   "metadata": {},
   "outputs": [],
   "source": [
    "print(anns[0]['bbox'])"
   ]
  },
  {
   "cell_type": "code",
   "execution_count": 9,
   "metadata": {},
   "outputs": [],
   "source": [
    "print(type(anns[0]['segmentation']))"
   ]
  },
  {
   "cell_type": "code",
   "execution_count": 10,
   "metadata": {},
   "outputs": [],
   "source": [
    "cat_ids = coco.getCatIds()\n",
    "cat_ids"
   ]
  },
  {
   "cell_type": "code",
   "execution_count": 23,
   "metadata": {},
   "outputs": [],
   "source": [
    "cats = coco.loadCats(cat_ids)"
   ]
  },
  {
   "cell_type": "code",
   "execution_count": 24,
   "metadata": {},
   "outputs": [],
   "source": [
    "category_name_list = []"
   ]
  },
  {
   "cell_type": "code",
   "execution_count": 25,
   "metadata": {},
   "outputs": [],
   "source": [
    "for cat in cats:\n",
    "    category_name_list.append(cat['name'])"
   ]
  },
  {
   "cell_type": "code",
   "execution_count": 11,
   "metadata": {},
   "outputs": [],
   "source": [
    "category_name_list "
   ]
  },
  {
   "cell_type": "code",
   "execution_count": 27,
   "metadata": {},
   "outputs": [],
   "source": [
    "# 이미지를 순회하며 카테고리마다 박스의 사이즈가 얼마나 되는지 조사\n",
    "\n",
    "# 클래스 마다 박스 크기 저장\n",
    "class_bbox_scale_list = []\n",
    "\n",
    "for _ in range(11):\n",
    "    class_bbox_scale_list.append([])\n",
    "\n",
    "for image_id in image_ids:\n",
    "    \n",
    "    # 이미지에 대한 정보를 가져오기\n",
    "    image_infos = coco.loadImgs(image_id)[0]\n",
    "    image_id = image_infos['id'] # 이미지 아이디를 가져옴\n",
    "    \n",
    "    # annotation정보를 가져오기\n",
    "    ann_ids = coco.getAnnIds(imgIds=image_id)\n",
    "    anns = coco.loadAnns(ann_ids)\n",
    "    \n",
    "    # 카테고리 정보 가져오기\n",
    "    for ann in anns:\n",
    "        category_id = ann['category_id']\n",
    "        bbox_information = ann['bbox']\n",
    "        bbox_area = bbox_information[2] * bbox_information[3]\n",
    "        class_bbox_scale_list[category_id].append(bbox_area)"
   ]
  },
  {
   "cell_type": "code",
   "execution_count": 12,
   "metadata": {},
   "outputs": [],
   "source": [
    "# 이미지의 전체 크기\n",
    "print(512 * 512)"
   ]
  },
  {
   "cell_type": "markdown",
   "metadata": {},
   "source": [
    "## class별 bbox개수의 분포도"
   ]
  },
  {
   "cell_type": "code",
   "execution_count": 29,
   "metadata": {},
   "outputs": [],
   "source": [
    "# 클래스마다의 bbox의 개수\n",
    "class_bbox_count_list = []\n",
    "\n",
    "for i in range(11):\n",
    "    class_bbox_count_list.append(len(class_bbox_scale_list[i]))"
   ]
  },
  {
   "cell_type": "code",
   "execution_count": 13,
   "metadata": {},
   "outputs": [],
   "source": [
    "class_bbox_count_list"
   ]
  },
  {
   "cell_type": "code",
   "execution_count": 14,
   "metadata": {},
   "outputs": [],
   "source": [
    "bbox_stat = df(data= {\"category\" : category_name_list, \"count\" : class_bbox_count_list},\n",
    "               columns = [\"category\", \"count\"]\n",
    "              )\n",
    "bbox_stat.head()"
   ]
  },
  {
   "cell_type": "code",
   "execution_count": 15,
   "metadata": {},
   "outputs": [],
   "source": [
    "# 카테고리별 bbox개수 분포도\n",
    "fig, ax1 = plt.subplots(1, 1, fcigsize = (30, 6))\n",
    "\n",
    "sns.barplot(x = \"category\", y = \"count\",data = bbox_stat, ax = ax1)"
   ]
  },
  {
   "cell_type": "code",
   "execution_count": 33,
   "metadata": {},
   "outputs": [],
   "source": [
    "category_name_list_all = ['UNKNOWN'] * class_bbox_count_list[0] + ['General trash'] * class_bbox_count_list[1] \\\n",
    "+ ['Paper'] * class_bbox_count_list[2] + ['Paper pack'] * class_bbox_count_list[3]\\\n",
    "+ ['Metal'] * class_bbox_count_list[4] + ['Glass'] * class_bbox_count_list[5]\\\n",
    "+ ['Plastic'] * class_bbox_count_list[6] + ['Styrofoam'] * class_bbox_count_list[7]\\\n",
    "+ ['Plastic bag'] * class_bbox_count_list[8] + ['Battery'] * class_bbox_count_list[9]\\\n",
    "+ ['Cloating'] * class_bbox_count_list[10]"
   ]
  },
  {
   "cell_type": "code",
   "execution_count": 34,
   "metadata": {},
   "outputs": [],
   "source": [
    "assert len(category_name_list_all) == sum(class_bbox_count_list)"
   ]
  },
  {
   "cell_type": "markdown",
   "metadata": {},
   "source": [
    "## class별 box size의 현황 분포 분석"
   ]
  },
  {
   "cell_type": "code",
   "execution_count": 35,
   "metadata": {},
   "outputs": [],
   "source": [
    "class_bbox_scale_list_all = []\n",
    "\n",
    "# class_bbox_scale_list\n",
    "\n",
    "for i in range(len(class_bbox_scale_list)):\n",
    "    for scale in class_bbox_scale_list[i]:\n",
    "        class_bbox_scale_list_all.append(scale)"
   ]
  },
  {
   "cell_type": "code",
   "execution_count": 16,
   "metadata": {},
   "outputs": [],
   "source": [
    "bbox_stat = df(data= {\"category\" : category_name_list_all, \"bbox_size\" : class_bbox_scale_list_all},\n",
    "               columns = [\"category\", \"bbox_size\"]\n",
    "              )\n",
    "\n",
    "\n",
    "\n",
    "bbox_stat.head()"
   ]
  },
  {
   "cell_type": "code",
   "execution_count": 17,
   "metadata": {},
   "outputs": [],
   "source": [
    "# 카테고리별 bbox크기 분포도\n",
    "fig, ax1 = plt.subplots(1, 1, figsize = (20, 10))\n",
    "sns.boxplot(x =\"bbox_size\", y=\"category\", data = bbox_stat, palette = \"muted\", ax = ax1)"
   ]
  },
  {
   "cell_type": "code",
   "execution_count": 42,
   "metadata": {},
   "outputs": [],
   "source": [
    "# unknown, Battery의 정확한 박스 크기 평균값 수치\n",
    "unk_area_np_list = np.array(class_bbox_scale_list[0])\n",
    "battery_area_np_list = np.array(class_bbox_scale_list[9])"
   ]
  },
  {
   "cell_type": "code",
   "execution_count": 18,
   "metadata": {},
   "outputs": [],
   "source": [
    "print(\"unknown bbox 크기에 대한 정보\")\n",
    "print(\"count : \", len(unk_area_np_list))\n",
    "print(\"mean of len : \", np.mean(unk_area_np_list))\n",
    "print(\"std of len : \", np.std(unk_area_np_list))\n",
    "print(\"max of len : \", np.max(unk_area_np_list))\n",
    "print(\"min of len : \", np.min(unk_area_np_list))\n",
    "print('제 1사분위 크기 : {}'.format(np.percentile(unk_area_np_list, 25)))\n",
    "print('제 2사분위 크기 : {}'.format(np.percentile(unk_area_np_list, 50)))\n",
    "print('제 3사분위 크기 : {}'.format(np.percentile(unk_area_np_list, 75)))"
   ]
  },
  {
   "cell_type": "code",
   "execution_count": 19,
   "metadata": {},
   "outputs": [],
   "source": [
    "print(\"battery bbox 크기에 대한 정보\")\n",
    "print(\"count : \", len(battery_area_np_list))\n",
    "print(\"mean of len : \", np.mean(battery_area_np_list))\n",
    "print(\"std of len : \", np.std(battery_area_np_list))\n",
    "print(\"max of len : \", np.max(battery_area_np_list))\n",
    "print(\"min of len : \", np.min(battery_area_np_list))\n",
    "print('제 1사분위 크기 : {}'.format(np.percentile(battery_area_np_list, 25)))\n",
    "print('제 2사분위 크기 : {}'.format(np.percentile(battery_area_np_list, 50)))\n",
    "print('제 3사분위 크기 : {}'.format(np.percentile(battery_area_np_list, 75)))"
   ]
  },
  {
   "cell_type": "markdown",
   "metadata": {},
   "source": [
    "## class별 bbox & Segmentation의 비율 계산"
   ]
  },
  {
   "cell_type": "code",
   "execution_count": 49,
   "metadata": {},
   "outputs": [],
   "source": [
    "# 이미지를 순회하며 카테고리마다 박스의 사이즈가 얼마나 되는지 조사\n",
    "\n",
    "# 클래스 마다 박스 크기 저장\n",
    "class_bbox_segmentation_ratio_list = []\n",
    "\n",
    "for _ in range(11):\n",
    "    class_bbox_segmentation_ratio_list.append([])\n",
    "\n",
    "for image_id in image_ids:\n",
    "    \n",
    "    # 이미지에 대한 정보를 가져오기\n",
    "    image_infos = coco.loadImgs(image_id)[0]\n",
    "    image_id = image_infos['id'] # 이미지 아이디를 가져옴\n",
    "    \n",
    "    # annotation정보를 가져오기\n",
    "    ann_ids = coco.getAnnIds(imgIds=image_id)\n",
    "    anns = coco.loadAnns(ann_ids)\n",
    "    \n",
    "    # 카테고리 정보 가져오기\n",
    "    for ann in anns:\n",
    "        category_id = ann['category_id']\n",
    "        bbox_information = ann['bbox']\n",
    "        bbox_area = bbox_information[2] * bbox_information[3]\n",
    "        bbox_segmentation_ratio = ann['area'] / bbox_area\n",
    "            \n",
    "        class_bbox_segmentation_ratio_list[category_id].append(bbox_segmentation_ratio)"
   ]
  },
  {
   "cell_type": "code",
   "execution_count": 50,
   "metadata": {},
   "outputs": [],
   "source": [
    "# 클래스마다의 bbox의 개수\n",
    "class_bbox_count_list = []\n",
    "\n",
    "for i in range(11):\n",
    "    class_bbox_count_list.append(len(class_bbox_segmentation_ratio_list[i]))"
   ]
  },
  {
   "cell_type": "code",
   "execution_count": 20,
   "metadata": {},
   "outputs": [],
   "source": [
    "class_bbox_count_list # 갯수 일치"
   ]
  },
  {
   "cell_type": "code",
   "execution_count": 52,
   "metadata": {},
   "outputs": [],
   "source": [
    "class_bbox_segmentation_ratio_list_all = []\n",
    "\n",
    "for i in range(len(class_bbox_segmentation_ratio_list)):\n",
    "    for scale in class_bbox_segmentation_ratio_list[i]:\n",
    "        class_bbox_segmentation_ratio_list_all.append(scale)"
   ]
  },
  {
   "cell_type": "code",
   "execution_count": 21,
   "metadata": {},
   "outputs": [],
   "source": [
    "bbox_seg_stat = df(data= {\"category\" : category_name_list_all, \"bbox_seg_ratio\" : class_bbox_segmentation_ratio_list_all},\n",
    "               columns = [\"category\", \"bbox_seg_ratio\"]\n",
    "              )\n",
    "\n",
    "\n",
    "\n",
    "bbox_seg_stat.head()"
   ]
  },
  {
   "cell_type": "code",
   "execution_count": 22,
   "metadata": {},
   "outputs": [],
   "source": [
    "# 카테고리별 bbox크기 분포도\n",
    "fig, ax1 = plt.subplots(1, 1, figsize = (20, 10))\n",
    "sns.boxplot(x =\"bbox_seg_ratio\", y=\"category\", data = bbox_seg_stat, palette = \"muted\", ax = ax1)"
   ]
  },
  {
   "cell_type": "markdown",
   "metadata": {},
   "source": [
    "## coco 라이브러리 연습코드"
   ]
  },
  {
   "cell_type": "code",
   "execution_count": 22,
   "metadata": {},
   "outputs": [],
   "source": [
    "image_id = coco.getImgIds(imgIds=0)"
   ]
  },
  {
   "cell_type": "code",
   "execution_count": 23,
   "metadata": {},
   "outputs": [],
   "source": [
    "image_id"
   ]
  },
  {
   "cell_type": "code",
   "execution_count": 29,
   "metadata": {},
   "outputs": [],
   "source": [
    "image_infos = coco.loadImgs(image_id)[0]"
   ]
  },
  {
   "cell_type": "code",
   "execution_count": 24,
   "metadata": {},
   "outputs": [],
   "source": [
    "image_infos"
   ]
  },
  {
   "cell_type": "code",
   "execution_count": 98,
   "metadata": {},
   "outputs": [],
   "source": [
    "ann_ids = coco.getAnnIds(imgIds=9)"
   ]
  },
  {
   "cell_type": "code",
   "execution_count": 25,
   "metadata": {},
   "outputs": [],
   "source": [
    "ann_ids # 이미지에 해당하는 어노테이이션 가져오기"
   ]
  },
  {
   "cell_type": "code",
   "execution_count": 33,
   "metadata": {},
   "outputs": [],
   "source": [
    "anns = coco.loadAnns(ann_ids)"
   ]
  },
  {
   "cell_type": "code",
   "execution_count": 26,
   "metadata": {},
   "outputs": [],
   "source": [
    "len(anns)"
   ]
  },
  {
   "cell_type": "code",
   "execution_count": 38,
   "metadata": {},
   "outputs": [],
   "source": [
    "# anns[1] # annotation에 해당하는 정보 가져오기"
   ]
  },
  {
   "cell_type": "code",
   "execution_count": 41,
   "metadata": {},
   "outputs": [],
   "source": [
    "cat_ids = coco.getCatIds()"
   ]
  },
  {
   "cell_type": "code",
   "execution_count": 27,
   "metadata": {},
   "outputs": [],
   "source": [
    "cat_ids"
   ]
  },
  {
   "cell_type": "code",
   "execution_count": 43,
   "metadata": {},
   "outputs": [],
   "source": [
    "cats = coco.loadCats(cat_ids)"
   ]
  },
  {
   "cell_type": "code",
   "execution_count": 28,
   "metadata": {},
   "outputs": [],
   "source": [
    "len(cats)"
   ]
  },
  {
   "cell_type": "code",
   "execution_count": 29,
   "metadata": {},
   "outputs": [],
   "source": [
    "cats[0]"
   ]
  },
  {
   "cell_type": "code",
   "execution_count": 46,
   "metadata": {},
   "outputs": [],
   "source": [
    "%matplotlib inline\n",
    "from pycocotools.coco import COCO\n",
    "import numpy as np\n",
    "import skimage.io as io\n",
    "import matplotlib.pyplot as plt\n",
    "import pylab\n"
   ]
  },
  {
   "cell_type": "code",
   "execution_count": 30,
   "metadata": {},
   "outputs": [],
   "source": [
    "coco = COCO('/opt/ml/input/data/val.json')"
   ]
  },
  {
   "cell_type": "code",
   "execution_count": 31,
   "metadata": {},
   "outputs": [],
   "source": [
    "cat_ids = coco.getCatIds()\n",
    "print(cat_ids)"
   ]
  },
  {
   "cell_type": "code",
   "execution_count": 50,
   "metadata": {},
   "outputs": [],
   "source": [
    "cats = coco.loadCats(cat_ids)"
   ]
  },
  {
   "cell_type": "code",
   "execution_count": 32,
   "metadata": {},
   "outputs": [],
   "source": [
    "cats"
   ]
  },
  {
   "cell_type": "code",
   "execution_count": 52,
   "metadata": {},
   "outputs": [],
   "source": [
    "nms = [cat['name'] for cat in cats]"
   ]
  },
  {
   "cell_type": "code",
   "execution_count": 33,
   "metadata": {},
   "outputs": [],
   "source": [
    "print('COCO categories: \\n{}\\n'.format(' '.join(nms)))"
   ]
  },
  {
   "cell_type": "code",
   "execution_count": 34,
   "metadata": {},
   "outputs": [],
   "source": [
    "nms = set([cat['supercategory'] for cat in cats])\n",
    "print('COCO supercategories: \\n{}'.format(' '.join(nms)))"
   ]
  },
  {
   "cell_type": "code",
   "execution_count": 123,
   "metadata": {},
   "outputs": [],
   "source": [
    "catIds = coco.getCatIds(catNms = ['Battery'])"
   ]
  },
  {
   "cell_type": "code",
   "execution_count": 35,
   "metadata": {},
   "outputs": [],
   "source": [
    "catIds"
   ]
  },
  {
   "cell_type": "code",
   "execution_count": 125,
   "metadata": {},
   "outputs": [],
   "source": [
    "imgIds = coco.getImgIds(catIds= catIds)"
   ]
  },
  {
   "cell_type": "code",
   "execution_count": 36,
   "metadata": {},
   "outputs": [],
   "source": [
    "imgIds"
   ]
  },
  {
   "cell_type": "code",
   "execution_count": 127,
   "metadata": {},
   "outputs": [],
   "source": [
    "image_infos1 = coco.loadImgs(imgIds[0])[0]\n",
    "image_infos2 = coco.loadImgs(imgIds[1])[0]"
   ]
  },
  {
   "cell_type": "code",
   "execution_count": 37,
   "metadata": {},
   "outputs": [],
   "source": [
    "image_infos1"
   ]
  },
  {
   "cell_type": "code",
   "execution_count": 38,
   "metadata": {},
   "outputs": [],
   "source": [
    "image_infos2"
   ]
  },
  {
   "cell_type": "code",
   "execution_count": 39,
   "metadata": {},
   "outputs": [],
   "source": [
    "root_path = \"/opt/ml/input/data/\"\n",
    "\n",
    "I = io.imread(root_path + image_infos1['file_name'])\n",
    "plt.axis('off')\n",
    "plt.imshow(I)\n",
    "plt.show()"
   ]
  },
  {
   "cell_type": "code",
   "execution_count": 40,
   "metadata": {},
   "outputs": [],
   "source": [
    "root_path = \"/opt/ml/input/data/\"\n",
    "\n",
    "I = io.imread(root_path + image_infos2['file_name'])\n",
    "plt.axis('off')\n",
    "plt.imshow(I)\n",
    "plt.show()"
   ]
  },
  {
   "cell_type": "code",
   "execution_count": 41,
   "metadata": {},
   "outputs": [],
   "source": [
    "catIds = coco.getCatIds(catNms=['Battery']);\n",
    "imgIds = coco.getImgIds(catIds=catIds);\n",
    "print(catIds)\n",
    "print(imgIds)"
   ]
  },
  {
   "cell_type": "code",
   "execution_count": 42,
   "metadata": {},
   "outputs": [],
   "source": [
    "I = io.imread(root_path + image_infos1['file_name'])\n",
    "plt.axis('off')\n",
    "plt.imshow(I)\n",
    "plt.show()\n",
    "\n",
    "plt.imshow(I)\n",
    "plt.axis('off')\n",
    "annIds = coco.getAnnIds(imgIds=image_infos1['id'], catIds = catIds,iscrowd=None)\n",
    "anns = coco.loadAnns(annIds)\n",
    "coco.showAnns(anns)"
   ]
  },
  {
   "cell_type": "code",
   "execution_count": 43,
   "metadata": {},
   "outputs": [],
   "source": [
    "I = io.imread(root_path + image_infos2['file_name'])\n",
    "plt.axis('off')\n",
    "plt.imshow(I)\n",
    "plt.show()\n",
    "\n",
    "plt.imshow(I)\n",
    "plt.axis('off')\n",
    "annIds = coco.getAnnIds(imgIds=image_infos2['id'], catIds = catIds,iscrowd=None)\n",
    "anns = coco.loadAnns(annIds)\n",
    "coco.showAnns(anns)"
   ]
  },
  {
   "cell_type": "code",
   "execution_count": 111,
   "metadata": {},
   "outputs": [],
   "source": [
    "annIds = coco.getAnnIds(imgIds=19,iscrowd=None)"
   ]
  },
  {
   "cell_type": "code",
   "execution_count": 44,
   "metadata": {},
   "outputs": [],
   "source": [
    "annIds"
   ]
  },
  {
   "cell_type": "code",
   "execution_count": 113,
   "metadata": {},
   "outputs": [],
   "source": [
    "annIds = coco.getAnnIds(imgIds=9,catIds = [9],iscrowd=None)"
   ]
  },
  {
   "cell_type": "code",
   "execution_count": 45,
   "metadata": {},
   "outputs": [],
   "source": [
    "annIds"
   ]
  },
  {
   "cell_type": "code",
   "execution_count": 46,
   "metadata": {},
   "outputs": [],
   "source": [
    "catIds = coco.getCatIds(catNms = ['UNKNOWN'])\n",
    "catIds"
   ]
  },
  {
   "cell_type": "code",
   "execution_count": 47,
   "metadata": {},
   "outputs": [],
   "source": [
    "imgIds = coco.getImgIds(catIds= catIds)\n",
    "imgIds"
   ]
  },
  {
   "cell_type": "code",
   "execution_count": 151,
   "metadata": {},
   "outputs": [],
   "source": [
    "image_infos_list = []\n",
    "\n",
    "for i in range(10):\n",
    "    image_infos_list.append(coco.loadImgs(imgIds[i])[0])\n"
   ]
  },
  {
   "cell_type": "code",
   "execution_count": 48,
   "metadata": {},
   "outputs": [],
   "source": [
    "\n",
    "for i in range(10):\n",
    "    I = io.imread(root_path + image_infos_list[i]['file_name'])\n",
    "    plt.axis('off')\n",
    "    plt.imshow(I)\n",
    "    plt.show()\n",
    "\n",
    "    plt.imshow(I)\n",
    "    plt.axis('off')\n",
    "    annIds = coco.getAnnIds(imgIds=image_infos_list[i]['id'], catIds = catIds,iscrowd=None)\n",
    "    anns = coco.loadAnns(annIds)\n",
    "    coco.showAnns(anns)\n",
    "    plt.show()"
   ]
  },
  {
   "cell_type": "markdown",
   "metadata": {},
   "source": [
    "## validation set 구성 연습(사용하지는 않음)"
   ]
  },
  {
   "cell_type": "code",
   "execution_count": 49,
   "metadata": {},
   "outputs": [],
   "source": [
    "coco = COCO('/opt/ml/input/data/val.json')"
   ]
  },
  {
   "cell_type": "code",
   "execution_count": 50,
   "metadata": {},
   "outputs": [],
   "source": [
    "help(coco)"
   ]
  },
  {
   "cell_type": "code",
   "execution_count": 51,
   "metadata": {},
   "outputs": [],
   "source": [
    "temp = coco.info()"
   ]
  },
  {
   "cell_type": "code",
   "execution_count": 173,
   "metadata": {},
   "outputs": [],
   "source": [
    "temp"
   ]
  },
  {
   "cell_type": "code",
   "execution_count": 52,
   "metadata": {},
   "outputs": [],
   "source": [
    "print(temp)"
   ]
  },
  {
   "cell_type": "code",
   "execution_count": 175,
   "metadata": {},
   "outputs": [],
   "source": [
    "import json\n",
    "from sklearn.utils import Bunch"
   ]
  },
  {
   "cell_type": "code",
   "execution_count": 191,
   "metadata": {},
   "outputs": [],
   "source": [
    "with open('/opt/ml/input/data/val.json') as f:\n",
    "    hparams = json.load(f)"
   ]
  },
  {
   "cell_type": "code",
   "execution_count": 204,
   "metadata": {},
   "outputs": [],
   "source": [
    "config = Bunch()\n",
    "config.update(hparams)"
   ]
  },
  {
   "cell_type": "code",
   "execution_count": 53,
   "metadata": {},
   "outputs": [],
   "source": [
    "config.info"
   ]
  },
  {
   "cell_type": "code",
   "execution_count": 206,
   "metadata": {},
   "outputs": [],
   "source": [
    "# config"
   ]
  },
  {
   "cell_type": "code",
   "execution_count": 54,
   "metadata": {},
   "outputs": [],
   "source": [
    "type(config)"
   ]
  },
  {
   "cell_type": "code",
   "execution_count": 55,
   "metadata": {},
   "outputs": [],
   "source": [
    "type(config.info)"
   ]
  },
  {
   "cell_type": "code",
   "execution_count": 209,
   "metadata": {},
   "outputs": [],
   "source": [
    "new_json = {}\n",
    "new_json['root'] = {}\n",
    "new_json['root']['info'] = config.info"
   ]
  },
  {
   "cell_type": "code",
   "execution_count": 56,
   "metadata": {},
   "outputs": [],
   "source": [
    "new_json"
   ]
  },
  {
   "cell_type": "code",
   "execution_count": 211,
   "metadata": {},
   "outputs": [],
   "source": [
    "# dictionary를 json으로 변환\n",
    "\n",
    "# json_val = json.dumps(new_json)"
   ]
  },
  {
   "cell_type": "code",
   "execution_count": 212,
   "metadata": {},
   "outputs": [],
   "source": [
    "# type(json_val)"
   ]
  },
  {
   "cell_type": "code",
   "execution_count": 219,
   "metadata": {},
   "outputs": [],
   "source": [
    "with open(\"/opt/ml/test.json\", 'w') as outfile:\n",
    "    json.dump(json_val, outfile)"
   ]
  },
  {
   "cell_type": "code",
   "execution_count": 228,
   "metadata": {},
   "outputs": [],
   "source": [
    "# # 방법1) json.dumps\n",
    "# dic1 = {'ramyeon':{'a' : 1, 'b' : 2},'noodle':['ramyeon','ramen']}\n",
    "# obj1 = json.dumps(dic1)\n",
    "\n",
    "# print(type(obj1))\"\"\n",
    "# obj1"
   ]
  },
  {
   "cell_type": "code",
   "execution_count": 229,
   "metadata": {},
   "outputs": [],
   "source": [
    "# with open('/opt/ml/test.json','w') as f:\n",
    "#     json.dump(dic1,f)"
   ]
  },
  {
   "cell_type": "code",
   "execution_count": 57,
   "metadata": {},
   "outputs": [],
   "source": [
    "dict1 = {'info' : config.info, 'licenses': config.licenses, 'categories' : config.categories}\n",
    "obj1 = json.dumps(dict1)\n",
    "\n",
    "print(type(obj1))\n",
    "obj1"
   ]
  },
  {
   "cell_type": "code",
   "execution_count": 247,
   "metadata": {},
   "outputs": [],
   "source": [
    "with open('/opt/ml/test.json','w') as f:\n",
    "    json.dump(dict1,f)"
   ]
  },
  {
   "cell_type": "code",
   "execution_count": 58,
   "metadata": {},
   "outputs": [],
   "source": [
    "cat_ids = coco.getCatIds()\n",
    "print(cat_ids)"
   ]
  },
  {
   "cell_type": "code",
   "execution_count": 249,
   "metadata": {},
   "outputs": [],
   "source": [
    "cats = coco.loadCats(cat_ids)"
   ]
  },
  {
   "cell_type": "code",
   "execution_count": 59,
   "metadata": {},
   "outputs": [],
   "source": [
    "cats"
   ]
  },
  {
   "cell_type": "code",
   "execution_count": 252,
   "metadata": {},
   "outputs": [],
   "source": [
    "nms = [cat['name'] for cat in cats]"
   ]
  },
  {
   "cell_type": "code",
   "execution_count": 60,
   "metadata": {},
   "outputs": [],
   "source": [
    "nms"
   ]
  },
  {
   "cell_type": "code",
   "execution_count": null,
   "metadata": {},
   "outputs": [],
   "source": []
  }
 ],
 "metadata": {
  "kernelspec": {
   "display_name": "Python 3",
   "language": "python",
   "name": "python3"
  },
  "language_info": {
   "codemirror_mode": {
    "name": "ipython",
    "version": 3
   },
   "file_extension": ".py",
   "mimetype": "text/x-python",
   "name": "python",
   "nbconvert_exporter": "python",
   "pygments_lexer": "ipython3",
   "version": "3.8.3"
  }
 },
 "nbformat": 4,
 "nbformat_minor": 5
}
