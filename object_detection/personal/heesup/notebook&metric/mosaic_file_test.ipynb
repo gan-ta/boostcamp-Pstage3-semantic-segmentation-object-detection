{
 "cells": [
  {
   "cell_type": "markdown",
   "metadata": {},
   "source": [
    "# Mosaic Augmentation을 적용 후 동작 확인 과정 코드"
   ]
  },
  {
   "cell_type": "code",
   "execution_count": null,
   "metadata": {},
   "outputs": [],
   "source": [
    "import cv2 \n",
    "import os\n",
    "\n",
    "import matplotlib.pyplot as plt\n",
    "import matplotlib.patches as patches\n",
    "\n",
    "from tqdm import tqdm\n",
    "\n",
    "from pycocotools.coco import COCO"
   ]
  },
  {
   "cell_type": "code",
   "execution_count": 1,
   "metadata": {},
   "outputs": [],
   "source": [
    "coco = COCO('/opt/ml/input/data/train_mosaic_upsampling.json')"
   ]
  },
  {
   "cell_type": "code",
   "execution_count": 2,
   "metadata": {},
   "outputs": [],
   "source": [
    "len(coco.getImgIds())"
   ]
  },
  {
   "cell_type": "code",
   "execution_count": 42,
   "metadata": {},
   "outputs": [],
   "source": [
    "image_id = coco.getImgIds()"
   ]
  },
  {
   "cell_type": "code",
   "execution_count": 43,
   "metadata": {},
   "outputs": [],
   "source": [
    "# image_id"
   ]
  },
  {
   "cell_type": "code",
   "execution_count": 44,
   "metadata": {},
   "outputs": [],
   "source": [
    "for i in range(0, 3446):\n",
    "    coco.loadImgs(i)[0]\n",
    "\n",
    "image_infos = coco.loadImgs(3446)[0]"
   ]
  },
  {
   "cell_type": "code",
   "execution_count": 3,
   "metadata": {},
   "outputs": [],
   "source": [
    "image_infos"
   ]
  },
  {
   "cell_type": "code",
   "execution_count": 46,
   "metadata": {},
   "outputs": [],
   "source": [
    "ann_ids = coco.getAnnIds(imgIds=3446)"
   ]
  },
  {
   "cell_type": "code",
   "execution_count": 47,
   "metadata": {},
   "outputs": [],
   "source": [
    "anns = coco.loadAnns(ann_ids)"
   ]
  },
  {
   "cell_type": "code",
   "execution_count": 4,
   "metadata": {},
   "outputs": [],
   "source": [
    "len(anns)"
   ]
  },
  {
   "cell_type": "code",
   "execution_count": 49,
   "metadata": {},
   "outputs": [],
   "source": [
    "cat_ids = coco.getCatIds()"
   ]
  },
  {
   "cell_type": "code",
   "execution_count": 5,
   "metadata": {},
   "outputs": [],
   "source": [
    "cat_ids"
   ]
  },
  {
   "cell_type": "code",
   "execution_count": 51,
   "metadata": {},
   "outputs": [],
   "source": [
    "cats = coco.loadCats(cat_ids)"
   ]
  },
  {
   "cell_type": "code",
   "execution_count": 6,
   "metadata": {},
   "outputs": [],
   "source": [
    "len(cats)"
   ]
  },
  {
   "cell_type": "code",
   "execution_count": 7,
   "metadata": {},
   "outputs": [],
   "source": [
    "cats[0]"
   ]
  },
  {
   "cell_type": "code",
   "execution_count": 54,
   "metadata": {},
   "outputs": [],
   "source": [
    "%matplotlib inline\n",
    "from pycocotools.coco import COCO\n",
    "import numpy as np\n",
    "import skimage.io as io\n",
    "import matplotlib.pyplot as plt\n",
    "import pylab"
   ]
  },
  {
   "cell_type": "code",
   "execution_count": 55,
   "metadata": {},
   "outputs": [],
   "source": [
    "nms = [cat['name'] for cat in cats]"
   ]
  },
  {
   "cell_type": "code",
   "execution_count": 8,
   "metadata": {},
   "outputs": [],
   "source": [
    "print('COCO categories: \\n{}\\n'.format(' '.join(nms)))"
   ]
  },
  {
   "cell_type": "code",
   "execution_count": 9,
   "metadata": {},
   "outputs": [],
   "source": [
    "nms = set([cat['supercategory'] for cat in cats])\n",
    "print('COCO supercategories: \\n{}'.format(' '.join(nms)))"
   ]
  },
  {
   "cell_type": "code",
   "execution_count": 58,
   "metadata": {},
   "outputs": [],
   "source": [
    "catIds = coco.getCatIds(catNms = ['Battery'])"
   ]
  },
  {
   "cell_type": "code",
   "execution_count": 10,
   "metadata": {},
   "outputs": [],
   "source": [
    "catIds"
   ]
  },
  {
   "cell_type": "code",
   "execution_count": 60,
   "metadata": {},
   "outputs": [],
   "source": [
    "imgIds = coco.getImgIds(catIds= catIds)"
   ]
  },
  {
   "cell_type": "code",
   "execution_count": 11,
   "metadata": {},
   "outputs": [],
   "source": [
    "imgIds"
   ]
  },
  {
   "cell_type": "code",
   "execution_count": 63,
   "metadata": {},
   "outputs": [],
   "source": [
    "image_infos = coco.loadImgs(3446)[0]"
   ]
  },
  {
   "cell_type": "code",
   "execution_count": 12,
   "metadata": {},
   "outputs": [],
   "source": [
    "image_infos"
   ]
  },
  {
   "cell_type": "code",
   "execution_count": 13,
   "metadata": {},
   "outputs": [],
   "source": [
    "root_path = \"/opt/ml/input/data/\"\n",
    "\n",
    "I = io.imread(root_path + image_infos['file_name'])\n",
    "plt.axis('off')\n",
    "plt.imshow(I)\n",
    "plt.show()"
   ]
  },
  {
   "cell_type": "code",
   "execution_count": 14,
   "metadata": {},
   "outputs": [],
   "source": [
    "catIds = coco.getCatIds(catNms=['Battery']);\n",
    "imgIds = coco.getImgIds(catIds=catIds);\n",
    "print(catIds)\n",
    "print(imgIds)"
   ]
  },
  {
   "cell_type": "code",
   "execution_count": 67,
   "metadata": {},
   "outputs": [],
   "source": [
    "def get_img_label(index, img_size, coco, data_dir):\n",
    "        image_id = coco.getImgIds(imgIds=index)\n",
    "        \n",
    "        image_info = coco.loadImgs(image_id)[0]\n",
    "        \n",
    "        image = cv2.imread(os.path.join(data_dir, image_info['file_name']))\n",
    "        image = cv2.cvtColor(image, cv2.COLOR_BGR2RGB).astype(np.float32)\n",
    "        image /= 255.0\n",
    "        \n",
    "        ann_ids = coco.getAnnIds(imgIds=image_info['id'])\n",
    "        anns = coco.loadAnns(ann_ids)\n",
    "        \n",
    "        boxes = np.array([x['bbox'] for x in anns])\n",
    "#         boxes = [x['bbox'] for x in anns]\n",
    "\n",
    "        # boxex (x_min, y_min, x_max, y_max)\n",
    "        boxes[:, 2] = (boxes[:, 0] + boxes[:, 2]) * img_size/ image.shape[1]\n",
    "        boxes[:, 3] = (boxes[:, 1] + boxes[:, 3]) * img_size / image.shape[0]\n",
    "        boxes[:, 0] = boxes[:, 0] * img_size / image.shape[1]\n",
    "        boxes[:, 1] = boxes[:, 1] * img_size / image.shape[0]\n",
    "        \n",
    "        labels = [x['category_id'] for x in anns]\n",
    "        areas = [x['area'] for x in anns]\n",
    "        \n",
    "        insert_seg = []\n",
    "        for x in anns:\n",
    "            insert_seg.append(x['segmentation'])\n",
    "        \n",
    "#         segments = np.array(insert_seg)\n",
    "        segments = insert_seg\n",
    "        \n",
    "        image = cv2.resize(image, (img_size, img_size))\n",
    "        \n",
    "        return image, labels, boxes, segments, areas"
   ]
  },
  {
   "cell_type": "code",
   "execution_count": 15,
   "metadata": {},
   "outputs": [],
   "source": [
    "annotation = '/opt/ml/input/data/train_mosaic_upsampling.json'\n",
    "data_dir = '/opt/ml/input/data'\n",
    "img_size = 1024\n",
    "\n",
    "coco = COCO(annotation)\n",
    "\n",
    "mosaic_images = []\n",
    "mosaic_labels = []\n",
    "mosaic_boxes = []\n",
    "mosaic_segments = []\n",
    "mosaic_areas = []\n",
    "\n",
    "coco = COCO(annotation)\n",
    "\n",
    "for idx in tqdm(range(3000,3100)):\n",
    "    image , labels, boxes, segments, areas =  get_img_label(idx, img_size, coco, data_dir )\n",
    "    mosaic_images.append(image)\n",
    "    mosaic_labels.append(labels)\n",
    "    mosaic_boxes.append(boxes)\n",
    "    mosaic_segments.append(segments)\n",
    "    mosaic_areas.append(areas)"
   ]
  },
  {
   "cell_type": "markdown",
   "metadata": {},
   "source": [
    "## load확인 시각화 코드"
   ]
  },
  {
   "cell_type": "code",
   "execution_count": 16,
   "metadata": {},
   "outputs": [],
   "source": [
    "for i in range(10):\n",
    "    \n",
    "    image = mosaic_images[i]\n",
    "    labels = mosaic_labels[i]\n",
    "    boxes = mosaic_boxes[i]\n",
    "    segments = mosaic_segments[i]\n",
    "    \n",
    "    plt.figure(figsize=(12,17))\n",
    "    plt.axis('off')\n",
    "\n",
    "    plt.imshow(image)\n",
    "\n",
    "    edge_colors = ['blue', 'brown', 'orange', 'pink', 'green',\n",
    "                  'gray', 'red', 'olive', 'purple', 'cyan',\n",
    "                   'black', 'seagreen'\n",
    "                  ]\n",
    "\n",
    "    ax = plt.gca()\n",
    "\n",
    "    for i in range(len(labels)):\n",
    "        class_label = labels[i]\n",
    "        boxes_info = boxes[i]\n",
    "        seg_info = segments[i]\n",
    "\n",
    "        for seg_info_location in seg_info:\n",
    "            for i in range(0,len(seg_info_location),2):\n",
    "                x = seg_info_location[i]\n",
    "                y = seg_info_location[i+1]\n",
    "\n",
    "                rect = patches.Rectangle(\n",
    "                    (x, y), 1, 1,\n",
    "                    edgecolor='black',\n",
    "                    facecolor='black',\n",
    "                    linewidth=0.5,\n",
    "                    fill=True\n",
    "                )\n",
    "\n",
    "                ax.add_patch(rect)\n",
    "\n",
    "\n",
    "        rect = patches.Rectangle((boxes_info[0],boxes_info[1]),\n",
    "                             boxes_info[2] - boxes_info[0],\n",
    "                             boxes_info[3] - boxes_info[1],\n",
    "                             linewidth=2,\n",
    "                             edgecolor=edge_colors[class_label],\n",
    "                             fill = False)\n",
    "\n",
    "        ax.add_patch(rect)\n",
    "\n",
    "    plt.show()"
   ]
  },
  {
   "cell_type": "code",
   "execution_count": null,
   "metadata": {},
   "outputs": [],
   "source": []
  },
  {
   "cell_type": "code",
   "execution_count": null,
   "metadata": {},
   "outputs": [],
   "source": []
  }
 ],
 "metadata": {
  "kernelspec": {
   "display_name": "Python 3",
   "language": "python",
   "name": "python3"
  },
  "language_info": {
   "codemirror_mode": {
    "name": "ipython",
    "version": 3
   },
   "file_extension": ".py",
   "mimetype": "text/x-python",
   "name": "python",
   "nbconvert_exporter": "python",
   "pygments_lexer": "ipython3",
   "version": "3.8.3"
  }
 },
 "nbformat": 4,
 "nbformat_minor": 5
}
